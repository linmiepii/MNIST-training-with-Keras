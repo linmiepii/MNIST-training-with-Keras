{
 "cells": [
  {
   "cell_type": "code",
   "execution_count": 2,
   "metadata": {},
   "outputs": [
    {
     "name": "stderr",
     "output_type": "stream",
     "text": [
      "Using TensorFlow backend.\n"
     ]
    }
   ],
   "source": [
    "import numpy as np\n",
    "import tensorflow\n",
    "from keras.models import Sequential\n",
    "from keras.layers.core import Dense, Dropout, Activation\n",
    "from keras.layers import Conv2D, MaxPooling2D, Flatten\n",
    "from keras.optimizers import SGD, Adam\n",
    "from keras.utils import np_utils\n",
    "from keras.datasets import mnist"
   ]
  },
  {
   "cell_type": "code",
   "execution_count": 56,
   "metadata": {},
   "outputs": [],
   "source": [
    "def load_data():\n",
    "    (x_train, y_train), (x_test, y_test) = mnist.load_data()\n",
    "    \n",
    "    number = 10000\n",
    "    x_train = x_train[:number]\n",
    "    y_train = y_train[:number]\n",
    "    x_train = x_train.reshape(number, 28*28)\n",
    "    x_test = x_test.reshape(x_test.shape[0], 28*28)    \n",
    "    x_train = x_train.astype('float32')\n",
    "    x_test = x_test.astype('float32')\n",
    "    \n",
    "    x_test = np.random.normal(x_test)\n",
    "    # convert category to one hot encoding\n",
    "    \n",
    "    y_train = np_utils.to_categorical(y_train, 10)\n",
    "    y_test = np_utils.to_categorical(y_test, 10)\n",
    "\n",
    "    #normalize training data\n",
    "    x_train = x_train / 255\n",
    "    x_test = x_test / 255\n",
    "    \n",
    "    return (x_train, y_train), (x_test, y_test)"
   ]
  },
  {
   "cell_type": "code",
   "execution_count": 57,
   "metadata": {},
   "outputs": [],
   "source": [
    "(x_train, y_train), (x_test, y_test) = load_data()"
   ]
  },
  {
   "cell_type": "code",
   "execution_count": 62,
   "metadata": {},
   "outputs": [
    {
     "name": "stdout",
     "output_type": "stream",
     "text": [
      "Epoch 1/20\n",
      "10000/10000 [==============================] - 0s 24us/step - loss: 0.7712 - accuracy: 0.7911\n",
      "Epoch 2/20\n",
      "10000/10000 [==============================] - 0s 18us/step - loss: 0.3394 - accuracy: 0.9047\n",
      "Epoch 3/20\n",
      "10000/10000 [==============================] - 0s 17us/step - loss: 0.2650 - accuracy: 0.9249\n",
      "Epoch 4/20\n",
      "10000/10000 [==============================] - 0s 17us/step - loss: 0.2144 - accuracy: 0.9389\n",
      "Epoch 5/20\n",
      "10000/10000 [==============================] - 0s 17us/step - loss: 0.1848 - accuracy: 0.9460\n",
      "Epoch 6/20\n",
      "10000/10000 [==============================] - 0s 18us/step - loss: 0.1577 - accuracy: 0.9556\n",
      "Epoch 7/20\n",
      "10000/10000 [==============================] - 0s 17us/step - loss: 0.1373 - accuracy: 0.9609\n",
      "Epoch 8/20\n",
      "10000/10000 [==============================] - 0s 17us/step - loss: 0.1176 - accuracy: 0.9664\n",
      "Epoch 9/20\n",
      "10000/10000 [==============================] - 0s 18us/step - loss: 0.1048 - accuracy: 0.9706\n",
      "Epoch 10/20\n",
      "10000/10000 [==============================] - 0s 17us/step - loss: 0.0899 - accuracy: 0.9756\n",
      "Epoch 11/20\n",
      "10000/10000 [==============================] - 0s 18us/step - loss: 0.0794 - accuracy: 0.9784\n",
      "Epoch 12/20\n",
      "10000/10000 [==============================] - 0s 18us/step - loss: 0.0685 - accuracy: 0.9840\n",
      "Epoch 13/20\n",
      "10000/10000 [==============================] - 0s 18us/step - loss: 0.0615 - accuracy: 0.9859\n",
      "Epoch 14/20\n",
      "10000/10000 [==============================] - 0s 18us/step - loss: 0.0538 - accuracy: 0.9885\n",
      "Epoch 15/20\n",
      "10000/10000 [==============================] - 0s 18us/step - loss: 0.0470 - accuracy: 0.9905\n",
      "Epoch 16/20\n",
      "10000/10000 [==============================] - 0s 17us/step - loss: 0.0411 - accuracy: 0.9922\n",
      "Epoch 17/20\n",
      "10000/10000 [==============================] - 0s 18us/step - loss: 0.0374 - accuracy: 0.9930\n",
      "Epoch 18/20\n",
      "10000/10000 [==============================] - 0s 18us/step - loss: 0.0323 - accuracy: 0.9939\n",
      "Epoch 19/20\n",
      "10000/10000 [==============================] - 0s 17us/step - loss: 0.0284 - accuracy: 0.9957\n",
      "Epoch 20/20\n",
      "10000/10000 [==============================] - 0s 17us/step - loss: 0.0254 - accuracy: 0.9961\n"
     ]
    },
    {
     "data": {
      "text/plain": [
       "<keras.callbacks.callbacks.History at 0x156c16b90>"
      ]
     },
     "execution_count": 62,
     "metadata": {},
     "output_type": "execute_result"
    }
   ],
   "source": [
    "model = Sequential()\n",
    "model.add(Dense(input_dim = 28*28, units = 333, activation = 'relu'))\n",
    "\n",
    "\n",
    "model.add(Dense(units = 333, activation = 'relu'))\n",
    "\n",
    "model.add(Dense(units = 10, activation = 'softmax'))\n",
    "\n",
    "model.compile(loss = 'categorical_crossentropy', optimizer = SGD(lr = 0.12), metrics = ['accuracy'])\n",
    "\n",
    "model.fit(x_train, y_train, batch_size = 100, epochs = 20)\n"
   ]
  },
  {
   "cell_type": "code",
   "execution_count": 55,
   "metadata": {},
   "outputs": [
    {
     "name": "stdout",
     "output_type": "stream",
     "text": [
      "10000/10000 [==============================] - 0s 16us/step\n",
      "training acc : 1.0\n",
      "10000/10000 [==============================] - 0s 14us/step\n",
      "training acc : 0.963100016117096\n"
     ]
    }
   ],
   "source": [
    "score = model.evaluate(x_train, y_train)\n",
    "print('training acc : ' + str(score[1]))\n",
    "\n",
    "score = model.evaluate(x_test, y_test)\n",
    "print('training acc : ' + str(score[1]))"
   ]
  },
  {
   "cell_type": "code",
   "execution_count": 51,
   "metadata": {},
   "outputs": [
    {
     "data": {
      "text/plain": [
       "(array([ 2.,  0.,  1.,  4.,  1.,  2.,  2.,  7.,  6.,  6., 13., 10., 17.,\n",
       "        15., 19., 36., 37., 37., 30., 32., 44., 59., 42., 50., 47., 59.,\n",
       "        44., 50., 44., 41., 38., 30., 43., 24., 20., 14., 19., 11.,  9.,\n",
       "        10.,  2.,  8.,  5.,  2.,  2.,  1.,  3.,  0.,  0.,  2.]),\n",
       " array([-3.15151871, -3.02417018, -2.89682165, -2.76947312, -2.64212459,\n",
       "        -2.51477606, -2.38742753, -2.260079  , -2.13273046, -2.00538193,\n",
       "        -1.8780334 , -1.75068487, -1.62333634, -1.49598781, -1.36863928,\n",
       "        -1.24129075, -1.11394222, -0.98659369, -0.85924516, -0.73189663,\n",
       "        -0.6045481 , -0.47719957, -0.34985104, -0.22250251, -0.09515398,\n",
       "         0.03219455,  0.15954308,  0.28689161,  0.41424014,  0.54158867,\n",
       "         0.6689372 ,  0.79628573,  0.92363426,  1.0509828 ,  1.17833133,\n",
       "         1.30567986,  1.43302839,  1.56037692,  1.68772545,  1.81507398,\n",
       "         1.94242251,  2.06977104,  2.19711957,  2.3244681 ,  2.45181663,\n",
       "         2.57916516,  2.70651369,  2.83386222,  2.96121075,  3.08855928,\n",
       "         3.21590781]),\n",
       " <a list of 50 Patch objects>)"
      ]
     },
     "execution_count": 51,
     "metadata": {},
     "output_type": "execute_result"
    },
    {
     "data": {
      "image/png": "[encoded data removed]",
      "text/plain": [
       "<Figure size 432x288 with 1 Axes>"
      ]
     },
     "metadata": {
      "needs_background": "light"
     },
     "output_type": "display_data"
    }
   ],
   "source": [
    "import matplotlib.pyplot as plt\n",
    "\n",
    "mu, sigma = 0, 0.1 # mean and standard deviation\n",
    "s = np.random.normal(0,1, 1000)\n",
    "plt.hist(s, bins = 50)"
   ]
  },
  {
   "cell_type": "code",
   "execution_count": null,
   "metadata": {},
   "outputs": [],
   "source": []
  },
  {
   "cell_type": "code",
   "execution_count": null,
   "metadata": {},
   "outputs": [],
   "source": []
  }
 ],
 "metadata": {
  "kernelspec": {
   "display_name": "Python 3",
   "language": "python",
   "name": "python3"
  },
  "language_info": {
   "codemirror_mode": {
    "name": "ipython",
    "version": 3
   },
   "file_extension": ".py",
   "mimetype": "text/x-python",
   "name": "python",
   "nbconvert_exporter": "python",
   "pygments_lexer": "ipython3",
   "version": "3.7.4"
  }
 },
 "nbformat": 4,
 "nbformat_minor": 2
}
